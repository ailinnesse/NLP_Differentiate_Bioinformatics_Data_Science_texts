{
 "cells": [
  {
   "cell_type": "markdown",
   "id": "2ffd9b31-c4f7-4270-a341-d14c39536309",
   "metadata": {},
   "source": [
    "# Naive Bayes Model"
   ]
  },
  {
   "cell_type": "markdown",
   "id": "3d34c722-dae6-424c-8a7f-1ea8ed8cfab1",
   "metadata": {},
   "source": [
    "In this notebook, I will try the Naive Bayes model to predict if the text was from Bioinformatics or Data Science subreddits. I will use GridSearch and different vectorizers CountVectorizer, TfidfVectorizer, and three different Tokenizers to see what works best with this data. "
   ]
  },
  {
   "cell_type": "markdown",
   "id": "dea79474-66d6-4eb2-b6a6-95d99ad7cf86",
   "metadata": {},
   "source": [
    "---"
   ]
  },
  {
   "cell_type": "code",
   "execution_count": 1,
   "id": "4888b7fe-677d-44ad-b6d2-9802fd32e8bc",
   "metadata": {},
   "outputs": [],
   "source": [
    "# Imports\n",
    "import pandas as pd\n",
    "import numpy as np\n",
    "\n",
    "from sklearn.model_selection import train_test_split, GridSearchCV, RandomizedSearchCV\n",
    "from sklearn.feature_extraction.text import CountVectorizer, TfidfVectorizer\n",
    "from sklearn.pipeline import Pipeline\n",
    "from sklearn.naive_bayes import MultinomialNB\n",
    "\n",
    "\n",
    "# Import my custom functions for fitting and scoring models, tokenizing, and plotting residuals.\n",
    "import functions_for_modeling"
   ]
  },
  {
   "cell_type": "code",
   "execution_count": 2,
   "id": "e293eca1-137b-4c6e-b767-a0a4cee580b6",
   "metadata": {},
   "outputs": [],
   "source": [
    "# Read the data\n",
    "reddit = pd.read_csv('../data/reddit_cleaned_removed_words.csv')"
   ]
  },
  {
   "cell_type": "code",
   "execution_count": 3,
   "id": "363f4931-1e11-4b5c-accc-8ad6d90e3d88",
   "metadata": {},
   "outputs": [],
   "source": [
    "# Split the data\n",
    "X = reddit['title']\n",
    "y = reddit['subreddit_num']\n",
    "\n",
    "X_train, X_test, y_train, y_test = train_test_split(X, y, random_state = 18,  stratify = y)"
   ]
  },
  {
   "cell_type": "markdown",
   "id": "806b5177-15cf-4aba-bb06-0c9e617b3448",
   "metadata": {},
   "source": [
    "## Model on Title only"
   ]
  },
  {
   "cell_type": "code",
   "execution_count": 24,
   "id": "4c9447ae-17b1-4841-b538-5afa36c72e98",
   "metadata": {},
   "outputs": [],
   "source": [
    "# Using Count Vectorizer\n",
    "pipe = Pipeline([\n",
    "    ('cvec', CountVectorizer()),\n",
    "    ('nb', MultinomialNB())\n",
    "])\n",
    "\n",
    "pipe_params = {\n",
    "    'cvec__max_features': [2000, 1000, 500],\n",
    "    'cvec__min_df': [2, 1],\n",
    "    'cvec__max_df': [0.9, 0.85],\n",
    "    'cvec__stop_words': [None, 'english'],\n",
    "    'nb__alpha': [1, 0.9, 0.8],\n",
    "}\n",
    "\n",
    "gs = GridSearchCV(pipe, \n",
    "                  param_grid = pipe_params,\n",
    "                  n_jobs = -1,\n",
    "                  cv = 5)"
   ]
  },
  {
   "cell_type": "code",
   "execution_count": 25,
   "id": "78745550-0ba1-4a3d-b08c-2b7e74c01e45",
   "metadata": {},
   "outputs": [
    {
     "name": "stdout",
     "output_type": "stream",
     "text": [
      "Cross Validation Score: 0.8060395674612927\n",
      "Best Parameters: {'cvec__max_df': 0.9, 'cvec__max_features': 2000, 'cvec__min_df': 1, 'cvec__stop_words': 'english', 'nb__alpha': 0.9}\n",
      "Train accuracy: 0.9218950064020487\n",
      "Test accuracy: 0.8157389635316699\n",
      "F1 score: 0.6756756756756757\n"
     ]
    }
   ],
   "source": [
    "gs = functions_for_modeling.model_fit_scores(gs, X_train, y_train, X_test, y_test)"
   ]
  },
  {
   "cell_type": "markdown",
   "id": "c38ad4f3-051a-4685-a425-b9bfadffb52a",
   "metadata": {},
   "source": [
    "This model overfits, however, 81% accuracy is good for the first model, and F1 of 0.67 is OK"
   ]
  },
  {
   "cell_type": "code",
   "execution_count": 26,
   "id": "62aff517-bc35-4651-8c23-578cac794b44",
   "metadata": {},
   "outputs": [],
   "source": [
    "# Using TfidfVectorizer\n",
    "pipe_tf = Pipeline([\n",
    "    ('tfidf', TfidfVectorizer()),\n",
    "    ('nb', MultinomialNB())\n",
    "])\n",
    "\n",
    "pipe_params_tf = {\n",
    "    'tfidf__max_features': [2000, 3000, 4000, 5000],\n",
    "    'tfidf__stop_words': [None, 'english'],\n",
    "    'tfidf__ngram_range': [(1, 1), (1, 2)],\n",
    "    'nb__alpha': [1, 0.9],\n",
    "}\n",
    "\n",
    "gs_tf = GridSearchCV(pipe_tf, \n",
    "                  param_grid = pipe_params_tf,\n",
    "                  n_jobs = -1,\n",
    "                  cv = 5)"
   ]
  },
  {
   "cell_type": "code",
   "execution_count": 27,
   "id": "37c7c38c-550a-4e5e-aa61-efda670d19a2",
   "metadata": {},
   "outputs": [
    {
     "name": "stdout",
     "output_type": "stream",
     "text": [
      "Cross Validation Score: 0.7900303104775949\n",
      "Best Parameters: {'nb__alpha': 0.9, 'tfidf__max_features': 2000, 'tfidf__ngram_range': (1, 1), 'tfidf__stop_words': 'english'}\n",
      "Train accuracy: 0.8982074263764405\n",
      "Test accuracy: 0.8080614203454894\n",
      "F1 score: 0.6062992125984251\n"
     ]
    }
   ],
   "source": [
    "gs_tf = functions_for_modeling.model_fit_scores(gs_tf, X_train, y_train, X_test, y_test)"
   ]
  },
  {
   "cell_type": "markdown",
   "id": "2d5cd2d2-02da-428a-ac55-853ef4c86543",
   "metadata": {},
   "source": [
    "This model performs a bit worse by both Accuracy and F1 score and is overfit as well"
   ]
  },
  {
   "cell_type": "markdown",
   "id": "b3a4a0c7-6020-466b-967b-d89f65592d5a",
   "metadata": {},
   "source": [
    "## Model on Title with Post body text"
   ]
  },
  {
   "cell_type": "code",
   "execution_count": 4,
   "id": "eb622153-ea54-44d9-90f5-34848e81a1f5",
   "metadata": {},
   "outputs": [],
   "source": [
    "# Split the data\n",
    "X_all = reddit['all_text']\n",
    "\n",
    "X_train_all, X_test_all, y_train, y_test = train_test_split(X_all, y, random_state = 18,  stratify = y)"
   ]
  },
  {
   "cell_type": "code",
   "execution_count": 29,
   "id": "5de5ff5f-a1ab-41f0-87f1-0b0411cf65a6",
   "metadata": {},
   "outputs": [],
   "source": [
    "# Using Count Vectorizer (pipe from first model)\n",
    "pipe_params_all = {\n",
    "    'cvec__max_features': [1000, 2000, 4000, 4500, 5000],\n",
    "    'cvec__min_df': [1, 2, 3],\n",
    "    'cvec__max_df': [0.9, 0.85],\n",
    "    'cvec__stop_words': [None, 'english'],\n",
    "    'nb__alpha': [1, 0.9, 0.8],\n",
    "}\n",
    "\n",
    "gs_all = GridSearchCV(pipe, \n",
    "                  param_grid = pipe_params_all,\n",
    "                  n_jobs = -1,\n",
    "                  cv = 5)"
   ]
  },
  {
   "cell_type": "code",
   "execution_count": 30,
   "id": "77e22e55-7229-4e26-b607-21ee1bd5cde6",
   "metadata": {},
   "outputs": [
    {
     "name": "stdout",
     "output_type": "stream",
     "text": [
      "Cross Validation Score: 0.8777463750307201\n",
      "Best Parameters: {'cvec__max_df': 0.9, 'cvec__max_features': 4000, 'cvec__min_df': 2, 'cvec__stop_words': 'english', 'nb__alpha': 0.8}\n",
      "Train accuracy: 0.9539052496798975\n",
      "Test accuracy: 0.8829174664107485\n",
      "F1 score: 0.8087774294670846\n"
     ]
    }
   ],
   "source": [
    "gs_all = functions_for_modeling.model_fit_scores(gs_all, X_train_all, y_train, X_test_all, y_test)"
   ]
  },
  {
   "cell_type": "markdown",
   "id": "23c40413-1e0e-406d-b366-e34b03bb5915",
   "metadata": {},
   "source": [
    "This model is much better than the one fitted only with Title. The F1 score is higher and Test and Train accuracy is much closer together (less overfitting)"
   ]
  },
  {
   "cell_type": "markdown",
   "id": "8d45c2d9-d694-425b-9e56-c9db58e9aa62",
   "metadata": {},
   "source": [
    "## Model with Tokenization and Lemmatizing or Stemming"
   ]
  },
  {
   "cell_type": "code",
   "execution_count": 5,
   "id": "5cf0c873-4f14-49a6-8292-635cfd0584f4",
   "metadata": {},
   "outputs": [
    {
     "name": "stdout",
     "output_type": "stream",
     "text": [
      "Cross Validation Score: 0.8790345703285001\n",
      "Train accuracy: 0.9475032010243278\n",
      "Test accuracy: 0.8886756238003839\n",
      "F1 score: 0.8152866242038217\n"
     ]
    }
   ],
   "source": [
    "# Fit the model using Text Blob Tokenizer and Stemmer\n",
    "textblob = functions_for_modeling.model_tokenazer(MultinomialNB(alpha=0.8), 'nb', functions_for_modeling.textblob_tokenizer, 2, 4000, 0.9, X_train_all, y_train, X_test_all, y_test)"
   ]
  },
  {
   "cell_type": "code",
   "execution_count": 32,
   "id": "9614708e-0b4e-4242-8e79-486eba9cf47c",
   "metadata": {},
   "outputs": [
    {
     "name": "stdout",
     "output_type": "stream",
     "text": [
      "Cross Validation Score: 0.8777607110674204\n",
      "Train accuracy: 0.9468629961587708\n",
      "Test accuracy: 0.8790786948176583\n",
      "F1 score: 0.801261829652997\n"
     ]
    }
   ],
   "source": [
    "# Fit the model using NLTK Tokenizer and Lemmetizer\n",
    "t_lem = functions_for_modeling.model_tokenazer(MultinomialNB(alpha=0.8), 'nb', functions_for_modeling.tokenizer_lemmatizer, 2, 4000, 0.9, X_train_all, y_train, X_test_all, y_test)"
   ]
  },
  {
   "cell_type": "code",
   "execution_count": 33,
   "id": "74d94123-2af4-4371-91f5-3e2fefee74d0",
   "metadata": {},
   "outputs": [
    {
     "name": "stdout",
     "output_type": "stream",
     "text": [
      "Cross Validation Score: 0.8777545670516916\n",
      "Train accuracy: 0.9468629961587708\n",
      "Test accuracy: 0.8809980806142035\n",
      "F1 score: 0.8037974683544303\n"
     ]
    }
   ],
   "source": [
    "# Fit the model using NLTK Tokenizer and Stemmer\n",
    "t_stem = functions_for_modeling.model_tokenazer(MultinomialNB(alpha=0.8), 'nb', functions_for_modeling.tokenizer_stemmer, 2, 4000, 0.9, X_train_all, y_train, X_test_all, y_test)"
   ]
  },
  {
   "cell_type": "markdown",
   "id": "8110337b-5900-454d-a028-90e19bf91ae3",
   "metadata": {},
   "source": [
    "I have fitted all my tokenized models with parameters from the best model so far. Text Blob Tokenizer with Stemmer improved the scores, especially F1, and reduced overfitting."
   ]
  },
  {
   "cell_type": "code",
   "execution_count": 8,
   "id": "7da5a354-e59b-4a2d-bcf3-aafd42d57a9c",
   "metadata": {},
   "outputs": [
    {
     "name": "stdout",
     "output_type": "stream",
     "text": [
      "Cross Validation Score: 0.8790325223232571\n",
      "Best Parameters: {'nb__alpha': 0.9, 'cvec__min_df': 2, 'cvec__max_features': 4000, 'cvec__max_df': 0.85}\n",
      "Train accuracy: 0.9455825864276568\n",
      "Test accuracy: 0.8848368522072937\n",
      "F1 score: 0.8076923076923077\n"
     ]
    }
   ],
   "source": [
    "# Random search parameters of my best tokenized model to improve scores.\n",
    "pipe_tn = Pipeline([\n",
    "    ('cvec', CountVectorizer(tokenizer=functions_for_modeling.textblob_tokenizer)),\n",
    "    ('nb', MultinomialNB())\n",
    "])\n",
    "\n",
    "pipe_params_tn = {\n",
    "    'cvec__max_features': [3000, 4000, 5000],\n",
    "    'cvec__min_df': [1, 2, 3],\n",
    "    'cvec__max_df': [0.9, 0.85],\n",
    "    'nb__alpha': [0.9, 0.8],\n",
    "}\n",
    "\n",
    "nb_tn = RandomizedSearchCV(pipe_tn, \n",
    "                       param_distributions = pipe_params_tn,\n",
    "                       n_jobs = -1,\n",
    "                       cv = 5, \n",
    "                       random_state=18,\n",
    "                       n_iter=12)\n",
    "\n",
    "\n",
    "nb_tn = functions_for_modeling.model_fit_scores(nb_tn, X_train_all, y_train, X_test_all, y_test)"
   ]
  },
  {
   "cell_type": "markdown",
   "id": "f2fd5635-56e7-4a6c-88c6-08cb944e17f9",
   "metadata": {},
   "source": [
    "The model has lower scores, that the one fitted on previous hyperparameters. I will use them for Stacking with Tokenizers. Randomized search with Tokenized models takes a long time to run, I had to use fewer iterations and hyperparameters for tuning."
   ]
  },
  {
   "cell_type": "markdown",
   "id": "05b2c02d-a1e6-4b7c-aff6-9a82a0317fcd",
   "metadata": {
    "tags": []
   },
   "source": [
    "---"
   ]
  },
  {
   "cell_type": "markdown",
   "id": "099790c3-3339-4c67-8b02-348f43bc5e4b",
   "metadata": {},
   "source": [
    "## Plot the Residuals of the best model"
   ]
  },
  {
   "cell_type": "markdown",
   "id": "5dca9c4f-93ff-4c8e-8342-903527b0d07a",
   "metadata": {},
   "source": [
    "My best model for this notebook is Naive Bayes with Count Vectorizer and Text Blob Tokenizing with Stemming fitted on both Title and Body Texts."
   ]
  },
  {
   "cell_type": "code",
   "execution_count": 9,
   "id": "ff8b874d-6639-45d8-85ec-756e8ad77acb",
   "metadata": {},
   "outputs": [
    {
     "data": {
      "image/png": "[encoded data removed]",
      "text/plain": [
       "<Figure size 1400x800 with 1 Axes>"
      ]
     },
     "metadata": {},
     "output_type": "display_data"
    }
   ],
   "source": [
    "# Plot the resuduals of the mest model\n",
    "functions_for_modeling.plot_residuals(textblob, X_test_all, y_test, 'Naive Bayes', 'nb_residuals')"
   ]
  },
  {
   "cell_type": "markdown",
   "id": "412b3ba3-7d82-4c1f-a3fa-a1898ea948ec",
   "metadata": {},
   "source": [
    "The Naive Bayes model has more errors in predicting Bioinformatics. It is understandable as the amount of data for Data Science is higher than for Bioinformatics."
   ]
  },
  {
   "cell_type": "markdown",
   "id": "1f7ec85f-0265-4c44-9b6a-e4912ba1ee98",
   "metadata": {},
   "source": [
    "---"
   ]
  },
  {
   "cell_type": "markdown",
   "id": "13bb56ac-eaef-46d2-a1c3-863d5052d527",
   "metadata": {},
   "source": [
    "I created the Naive Bayes models in this notebook with Count Vectorizer, TFidf Vectorizer, and Tokenizers.\n",
    "The model with the Count Vectorizer performed better.\n",
    "I have tried three different Tokenizers and found that the Text Blob tokenizer with Stemming has the highest scores from all my Naive Bayes models.\n",
    "In the next Notebook, I will explore XGBoost and Gradient Boost models."
   ]
  }
 ],
 "metadata": {
  "kernelspec": {
   "display_name": "Python 3 (ipykernel)",
   "language": "python",
   "name": "python3"
  },
  "language_info": {
   "codemirror_mode": {
    "name": "ipython",
    "version": 3
   },
   "file_extension": ".py",
   "mimetype": "text/x-python",
   "name": "python",
   "nbconvert_exporter": "python",
   "pygments_lexer": "ipython3",
   "version": "3.9.13"
  }
 },
 "nbformat": 4,
 "nbformat_minor": 5
}
