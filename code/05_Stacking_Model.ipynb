{
 "cells": [
  {
   "cell_type": "markdown",
   "id": "f2b091f6-13bb-4be4-9dc1-7045f20aec66",
   "metadata": {},
   "source": [
    "# Stacking Model"
   ]
  },
  {
   "cell_type": "markdown",
   "id": "7d4136f3-f9aa-4a73-b8fc-34af38b3384b",
   "metadata": {},
   "source": [
    "In the previous notebooks, I have built different models. In this notebook, I will use the three best ones in the Stacking Model in order to try and improve F1 and Accuracy and combat overfitting."
   ]
  },
  {
   "cell_type": "markdown",
   "id": "cdf2d53f-d5b9-45a4-a994-d366e89dfb77",
   "metadata": {},
   "source": [
    "---"
   ]
  },
  {
   "cell_type": "code",
   "execution_count": 2,
   "id": "238dbf6d-cca8-4d84-8807-f82617e02f51",
   "metadata": {},
   "outputs": [],
   "source": [
    "# Imports\n",
    "import pandas as pd\n",
    "import numpy as np\n",
    "\n",
    "from sklearn.model_selection import train_test_split, RandomizedSearchCV, StratifiedKFold\n",
    "from sklearn.feature_extraction.text import CountVectorizer\n",
    "from sklearn.pipeline import Pipeline\n",
    "from sklearn.naive_bayes import MultinomialNB\n",
    "from xgboost import XGBClassifier\n",
    "from sklearn.ensemble import GradientBoostingClassifier, StackingClassifier\n",
    "from sklearn.linear_model import LogisticRegression\n",
    "\n",
    "# Import my custom functions for fitting and scoring models, tokenizing, and plotting residuals.\n",
    "import functions_for_modeling"
   ]
  },
  {
   "cell_type": "code",
   "execution_count": 3,
   "id": "7e601720-c46e-45be-9638-ac654347c74a",
   "metadata": {},
   "outputs": [],
   "source": [
    "# Read the data\n",
    "reddit = pd.read_csv('../data/reddit_cleaned_removed_words.csv')"
   ]
  },
  {
   "cell_type": "code",
   "execution_count": 4,
   "id": "44519009-7fdd-4607-8837-afe5b3ee9444",
   "metadata": {},
   "outputs": [],
   "source": [
    "# Split the data\n",
    "X = reddit['all_text']\n",
    "y = reddit['subreddit_num']\n",
    "\n",
    "X_train, X_test, y_train, y_test = train_test_split(X, y, random_state = 18,  stratify = y)"
   ]
  },
  {
   "cell_type": "markdown",
   "id": "2964472d-1ca1-4e49-ad9e-52b037048aeb",
   "metadata": {},
   "source": [
    "---"
   ]
  },
  {
   "cell_type": "markdown",
   "id": "76088486-bc88-48cb-b6c8-c174889adfa9",
   "metadata": {},
   "source": [
    "## Stacking"
   ]
  },
  {
   "cell_type": "code",
   "execution_count": 5,
   "id": "89c39c4d-a669-4850-80a3-d93071b05af9",
   "metadata": {},
   "outputs": [],
   "source": [
    "# Fit using hyperparameters from the best models found in previous notebooks.\n",
    "\n",
    "level1_estimators = [\n",
    "    ('nb', MultinomialNB(alpha=0.8)),\n",
    "    ('xgb', XGBClassifier(subsample=0.9, reg_alpha=0.4, max_depth=5, learning_rate=0.14, gamma=0.28, colsample_bytree=0.73)),\n",
    "    ('gb', GradientBoostingClassifier(n_estimators=200, max_depth=3, learning_rate= 0.12)),\n",
    "    \n",
    "]\n",
    "\n",
    "pipe_staking = Pipeline([\n",
    "    ('cvec', CountVectorizer(stop_words = 'english')),\n",
    "    ('staking', StackingClassifier(estimators=level1_estimators,\n",
    "                                 final_estimator=LogisticRegression()))\n",
    "])\n",
    "\n",
    "pipe_params = {\n",
    "    'cvec__max_features': [3000, 4000, 5000],\n",
    "    'cvec__min_df': [2, 3, 4, 5],\n",
    "    'cvec__max_df': [0.8, 0.9, 0.95],\n",
    "    'staking__final_estimator__C': np.linspace(0.01, 1, 15),\n",
    "}\n",
    "\n",
    "kfold = StratifiedKFold(n_splits=3, shuffle=True, random_state=18)\n",
    "\n",
    "st = RandomizedSearchCV(pipe_staking, \n",
    "                       param_distributions = pipe_params,\n",
    "                       n_jobs = -1,\n",
    "                       cv = kfold, \n",
    "                       random_state=18,\n",
    "                       n_iter=40)"
   ]
  },
  {
   "cell_type": "code",
   "execution_count": 12,
   "id": "f4ee7ed6-d487-4696-bb37-238b46080d8e",
   "metadata": {},
   "outputs": [
    {
     "name": "stdout",
     "output_type": "stream",
     "text": [
      "Cross Validation Score: 0.8911894814450726\n",
      "Best Parameters: {'staking__final_estimator__C': 1.0, 'cvec__min_df': 2, 'cvec__max_features': 5000, 'cvec__max_df': 0.8}\n",
      "Train accuracy: 0.9622279129321383\n",
      "Test accuracy: 0.9040307101727447\n",
      "F1 score: 0.8466257668711656\n"
     ]
    }
   ],
   "source": [
    "st = functions_for_modeling.model_fit_scores(st, X_train, y_train, X_test, y_test)"
   ]
  },
  {
   "cell_type": "markdown",
   "id": "ca8a9508-0915-476b-ad4d-cb637901b0c6",
   "metadata": {},
   "source": [
    "This model performs better than my previous best model - Naive Bayes. I will try to improve it even more with my best-performing custom Tokenizer - NLTP Word Tokenizer with Stemming"
   ]
  },
  {
   "cell_type": "markdown",
   "id": "a8c2a4d3-f53f-44a7-8bf2-3c43ec39160e",
   "metadata": {},
   "source": [
    "---"
   ]
  },
  {
   "cell_type": "markdown",
   "id": "8c953a08-c776-496f-b869-5301c0361e2b",
   "metadata": {},
   "source": [
    "## Stacking with Tokenizer"
   ]
  },
  {
   "cell_type": "code",
   "execution_count": 6,
   "id": "6ca4c77d-cde6-422b-b1c2-38eb9dd9c5f1",
   "metadata": {},
   "outputs": [
    {
     "name": "stdout",
     "output_type": "stream",
     "text": [
      "Cross Validation Score: 0.8918407471123126\n",
      "Train accuracy: 0.9615877080665813\n",
      "Test accuracy: 0.9097888675623801\n",
      "F1 score: 0.8507936507936509\n"
     ]
    }
   ],
   "source": [
    "tb_stem_st = functions_for_modeling.model_tokenazer(StackingClassifier(estimators=level1_estimators, final_estimator=LogisticRegression(C=1)), 'sc', functions_for_modeling.textblob_tokenizer, 2, 4000, 0.8, X_train, y_train, X_test, y_test)"
   ]
  },
  {
   "cell_type": "code",
   "execution_count": 6,
   "id": "6d548c84-357f-4e42-8ab6-0350e7270eef",
   "metadata": {},
   "outputs": [
    {
     "name": "stdout",
     "output_type": "stream",
     "text": [
      "Cross Validation Score: 0.8950376832964692\n",
      "Train accuracy: 0.9647887323943662\n",
      "Test accuracy: 0.9021113243761996\n",
      "F1 score: 0.838095238095238\n"
     ]
    }
   ],
   "source": [
    "t_stem_st = functions_for_modeling.model_tokenazer(StackingClassifier(estimators=level1_estimators, final_estimator=LogisticRegression(C=1)), 'sc', functions_for_modeling.tokenizer_stemmer, 2, 4000, 0.8, X_train, y_train, X_test, y_test)"
   ]
  },
  {
   "cell_type": "markdown",
   "id": "3d77d339-22ff-4411-981a-66ddbc7eb05a",
   "metadata": {},
   "source": [
    "The model with Blob Tokenizer and Stemming (tb_stem_st) improved the scores and reduced overfitting. I will use a Random Search to find better hyperparameters for this model. "
   ]
  },
  {
   "cell_type": "code",
   "execution_count": 7,
   "id": "c1d33886-1f63-4475-9390-85975e63d263",
   "metadata": {},
   "outputs": [
    {
     "name": "stdout",
     "output_type": "stream",
     "text": [
      "Cross Validation Score: 0.8937597280249037\n",
      "Best Parameters: {'staking__final_estimator__C': 0.8, 'cvec__min_df': 2, 'cvec__max_features': 5000, 'cvec__max_df': 0.8}\n",
      "Train accuracy: 0.9647887323943662\n",
      "Test accuracy: 0.9040307101727447\n",
      "F1 score: 0.840764331210191\n"
     ]
    }
   ],
   "source": [
    "# Random search parameters of the best tokenized model to improve scores.\n",
    "pipe_tn = Pipeline([\n",
    "    ('cvec', CountVectorizer(tokenizer=functions_for_modeling.textblob_tokenizer)),\n",
    "    ('staking', StackingClassifier(estimators=level1_estimators,\n",
    "                                 final_estimator=LogisticRegression()))\n",
    "])\n",
    "\n",
    "pipe_params_tn = {\n",
    "    'cvec__max_features': [3000, 4000, 5000],\n",
    "    'cvec__min_df': [2, 3, 4],\n",
    "    'cvec__max_df': [0.9, 0.8],\n",
    "    'staking__final_estimator__C': [0.8, 0.9, 1]\n",
    "}\n",
    "\n",
    "st_tn = RandomizedSearchCV(pipe_tn, \n",
    "                       param_distributions = pipe_params_tn,\n",
    "                       n_jobs = -1,\n",
    "                       cv = 5, \n",
    "                       random_state=18,\n",
    "                       n_iter=20)\n",
    "\n",
    "\n",
    "st_tn = functions_for_modeling.model_fit_scores(st_tn, X_train, y_train, X_test, y_test)"
   ]
  },
  {
   "cell_type": "markdown",
   "id": "b51ddbc1-fb1f-4b1b-8287-657cb048cbd9",
   "metadata": {},
   "source": [
    "The Random search improved the scores, but they are just a bit lower than the Stacking model without Tokenizer."
   ]
  },
  {
   "cell_type": "markdown",
   "id": "959a1df1-1a39-4e44-9341-994c36d27e3b",
   "metadata": {},
   "source": [
    "---"
   ]
  },
  {
   "cell_type": "markdown",
   "id": "c426c3ab-2bce-46de-b639-27bd48efe9b4",
   "metadata": {},
   "source": [
    "## Plot the Residuals of the best model in this notebook "
   ]
  },
  {
   "cell_type": "markdown",
   "id": "6df29953-6d7d-4317-9134-386770cd0889",
   "metadata": {},
   "source": [
    "My best model for this notebook and this project is Staking without Tokenizer."
   ]
  },
  {
   "cell_type": "code",
   "execution_count": 7,
   "id": "b7358981-e7d6-44ef-989a-73aa20595674",
   "metadata": {},
   "outputs": [
    {
     "data": {
      "image/png": "[encoded data removed]",
      "text/plain": [
       "<Figure size 1400x800 with 1 Axes>"
      ]
     },
     "metadata": {},
     "output_type": "display_data"
    }
   ],
   "source": [
    "# Plot the resuduals of the mest model for this notebook\n",
    "functions_for_modeling.plot_residuals(tb_stem_st, X_test, y_test, 'Stacking', 'st_residuals')"
   ]
  },
  {
   "cell_type": "markdown",
   "id": "6fa2ba83-8bff-4cdc-a95f-5826d80cbb8b",
   "metadata": {},
   "source": [
    "My best model still has an imbalanced error, but the amount of incorrectly predicted Data Science texts is less than in my previous best model - Naive Bayes."
   ]
  },
  {
   "cell_type": "markdown",
   "id": "3a838e6b-fd8f-4ade-ad59-95d9501cfdc1",
   "metadata": {},
   "source": [
    "#####Stacking improved F1 score by 0.04, Test Accuracy by 2%, and Cross-Validation score by 1%. It reduced overfitting by 0.02."
   ]
  },
  {
   "cell_type": "markdown",
   "id": "d537c71c-c99a-48f4-8980-6ee25cdf04e3",
   "metadata": {},
   "source": [
    "---"
   ]
  },
  {
   "cell_type": "markdown",
   "id": "e4b2f119-a53e-486e-bd3e-f89ccad98cc6",
   "metadata": {},
   "source": [
    "# Conclusions"
   ]
  },
  {
   "cell_type": "markdown",
   "id": "af5f990d-1f2a-4c4f-b45d-d9b07aa8b657",
   "metadata": {},
   "source": [
    "My best model for this project is Stacking with Naive Bayes, Gradient Boosting, and XGBoost with Count vectorization and Text Blob Tokenizing and Stemming. It has a high F1 score of ####0.846 and a test accuracy of ####90%. \n",
    "I would recommend training my best model with a broader specter of data from different websites and using more Bioinformatics data to battle imbalanced errors in predictions for further development of the model to differentiate Bioinformatics texts from Data Science texts."
   ]
  }
 ],
 "metadata": {
  "kernelspec": {
   "display_name": "Python 3 (ipykernel)",
   "language": "python",
   "name": "python3"
  },
  "language_info": {
   "codemirror_mode": {
    "name": "ipython",
    "version": 3
   },
   "file_extension": ".py",
   "mimetype": "text/x-python",
   "name": "python",
   "nbconvert_exporter": "python",
   "pygments_lexer": "ipython3",
   "version": "3.9.13"
  }
 },
 "nbformat": 4,
 "nbformat_minor": 5
}
