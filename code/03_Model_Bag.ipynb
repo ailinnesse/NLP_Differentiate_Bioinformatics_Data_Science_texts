{
 "cells": [
  {
   "cell_type": "code",
   "execution_count": null,
   "id": "fdca4d80-23d6-4f51-b853-e096389c9ef6",
   "metadata": {},
   "outputs": [],
   "source": []
  },
  {
   "cell_type": "code",
   "execution_count": null,
   "id": "7db3e4b4-0701-4d97-9076-4072c733890f",
   "metadata": {},
   "outputs": [],
   "source": []
  }
 ],
 "metadata": {
  "kernelspec": {
   "display_name": "Python 3 (ipykernel)",
   "language": "python",
   "name": "python3"
  },
  "language_info": {
   "codemirror_mode": {
    "name": "ipython",
    "version": 3
   },
   "file_extension": ".py",
   "mimetype": "text/x-python",
   "name": "python",
   "nbconvert_exporter": "python",
   "pygments_lexer": "ipython3",
   "version": "3.9.13"
  }
 },
 "nbformat": 4,
 "nbformat_minor": 5
}
