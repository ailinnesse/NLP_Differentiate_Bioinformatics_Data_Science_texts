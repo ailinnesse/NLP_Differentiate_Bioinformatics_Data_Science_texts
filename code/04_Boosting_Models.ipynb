{
 "cells": [
  {
   "cell_type": "markdown",
   "id": "7c54066a-548b-462f-823a-ed0525ddf402",
   "metadata": {},
   "source": [
    "# Boosting Models"
   ]
  },
  {
   "cell_type": "markdown",
   "id": "075a782a-1322-45c0-99c2-8e295d7c0eec",
   "metadata": {},
   "source": [
    "In the last notebook, I tried the Naive Bayes model and found that Count Vectorizer and all text column work better for the Naive Bayes models. Scores were good, but I want to try boosting models to add them to the stacking model with Naive Bayes."
   ]
  },
  {
   "cell_type": "markdown",
   "id": "15235ac1-a7f5-46b5-9568-a2edda17f778",
   "metadata": {},
   "source": [
    "---"
   ]
  },
  {
   "cell_type": "code",
   "execution_count": 1,
   "id": "f88bdd55-4182-41b0-b8cd-658c34dbfa17",
   "metadata": {},
   "outputs": [],
   "source": [
    "# Imports\n",
    "import pandas as pd\n",
    "import numpy as np\n",
    "\n",
    "from sklearn.model_selection import train_test_split, RandomizedSearchCV, StratifiedKFold\n",
    "from sklearn.feature_extraction.text import CountVectorizer, TfidfVectorizer\n",
    "from sklearn.pipeline import Pipeline\n",
    "from xgboost import XGBClassifier\n",
    "from sklearn.ensemble import GradientBoostingClassifier, AdaBoostClassifier\n",
    "from sklearn.tree import DecisionTreeClassifier\n",
    "\n",
    "# Import my custom functions for fitting and scoring models, tokenizing, and plotting residuals.\n",
    "import functions_for_modeling"
   ]
  },
  {
   "cell_type": "code",
   "execution_count": 2,
   "id": "ee1af2d5-3873-4b4e-a52a-5ebbf7027fbb",
   "metadata": {},
   "outputs": [],
   "source": [
    "# Read the data\n",
    "reddit = pd.read_csv('../data/reddit_cleaned_removed_words.csv')"
   ]
  },
  {
   "cell_type": "code",
   "execution_count": 3,
   "id": "8a3fc72e-da3f-444d-8a9b-26c1717aa911",
   "metadata": {},
   "outputs": [],
   "source": [
    "# Split the data\n",
    "X = reddit['all_text']\n",
    "y = reddit['subreddit_num']\n",
    "\n",
    "X_train, X_test, y_train, y_test = train_test_split(X, y, random_state = 18,  stratify = y)"
   ]
  },
  {
   "cell_type": "markdown",
   "id": "a0efbff0-41a8-4df7-b028-da72f61ce38c",
   "metadata": {},
   "source": [
    "## XGBClassifier"
   ]
  },
  {
   "cell_type": "code",
   "execution_count": 12,
   "id": "74c1f68e-ac76-4f72-96c2-aa1b77655bca",
   "metadata": {},
   "outputs": [],
   "source": [
    "# XGBClassifier with Count Vectorizer adapted from (https://towardsdatascience.com/beginners-guide-to-xgboost-for-classification-problems-50f75aac5390)\n",
    "pipe_xgb = Pipeline([\n",
    "    ('cvec', CountVectorizer()),\n",
    "    ('xgb', XGBClassifier())\n",
    "])\n",
    "\n",
    "pipe_params_xgb = {\n",
    "    'cvec__max_features': range(1000, 7000, 1000),\n",
    "    'cvec__min_df': range(1, 7),\n",
    "    'cvec__max_df': [0.8, 0.9, 0.95],\n",
    "    'cvec__stop_words': [None, 'english'],\n",
    "    'xgb__learning_rate': np.linspace(0.02, 0.2, 10),\n",
    "    'xgb__gamma': np.linspace(0.1, 0.3, 10),\n",
    "    'xgb__reg_alpha': [0.4, 0.5, 0.6],\n",
    "    'xgb__max_depth': range(1, 9),\n",
    "    'xgb__subsample': [0.8, 0.9, 0.95],\n",
    "    'xgb__colsample_bytree': np.linspace(0.6, 1, 10)  \n",
    "    \n",
    "}\n",
    "\n",
    "kfold = StratifiedKFold(n_splits=3, shuffle=True, random_state=18)\n",
    "\n",
    "rs_xgb = RandomizedSearchCV(pipe_xgb, \n",
    "                       param_distributions = pipe_params_xgb,\n",
    "                       n_jobs = -1,\n",
    "                       cv = kfold, \n",
    "                       random_state=18,\n",
    "                       n_iter=40)"
   ]
  },
  {
   "cell_type": "code",
   "execution_count": 28,
   "id": "cae14185-ee7f-470f-9a1d-f294abb6b559",
   "metadata": {},
   "outputs": [
    {
     "name": "stdout",
     "output_type": "stream",
     "text": [
      "Cross Validation Score: 0.8450909314327845\n",
      "Best Parameters: {'xgb__subsample': 0.9, 'xgb__reg_alpha': 0.4, 'xgb__max_depth': 5, 'xgb__learning_rate': 0.14, 'xgb__gamma': 0.2777777777777778, 'xgb__colsample_bytree': 0.7333333333333333, 'cvec__stop_words': 'english', 'cvec__min_df': 3, 'cvec__max_features': 3000, 'cvec__max_df': 0.95}\n",
      "Train accuracy: 0.91101152368758\n",
      "Test accuracy: 0.8637236084452975\n",
      "F1 score: 0.7526132404181184\n"
     ]
    }
   ],
   "source": [
    "rs_xbg = functions_for_modeling.model_fit_scores(rs_xgb, X_train, y_train, X_test, y_test)"
   ]
  },
  {
   "cell_type": "markdown",
   "id": "4f5c376e-da97-4786-aef2-fb850724923c",
   "metadata": {},
   "source": [
    "This model has lower scores than my best Naive Bayes model, especially the F1 score is much lower and it still overfits. I will try TFidF Vectorizer and Tokenizers to improve the scores."
   ]
  },
  {
   "cell_type": "code",
   "execution_count": 29,
   "id": "f98582fb-1bce-4827-aa3d-3ea4c98b1162",
   "metadata": {
    "tags": []
   },
   "outputs": [],
   "source": [
    "# XGBClassifier with Tfidf Vectorizer\n",
    "pipe_xgb_tf = Pipeline([\n",
    "    ('tfidf', TfidfVectorizer()),\n",
    "    ('xgb', XGBClassifier())\n",
    "])\n",
    "\n",
    "pipe_params_xgb_tf = {\n",
    "    'tfidf__max_features': range(1000, 7000, 1000),\n",
    "    'tfidf__stop_words': [None, 'english'],\n",
    "    'tfidf__ngram_range': [(1, 1), (1, 2)],\n",
    "    'tfidf__min_df': range(1, 7),\n",
    "    'tfidf__max_df': [0.8, 0.9, 0.95],\n",
    "    'xgb__learning_rate': np.linspace(0.02, 0.2, 10),\n",
    "    'xgb__gamma': np.linspace(0.1, 0.3, 10),\n",
    "    'xgb__reg_alpha': [0.4, 0.5, 0.6],\n",
    "    'xgb__max_depth': range(1, 9),\n",
    "    'xgb__subsample': [0.8, 0.9, 0.95],\n",
    "    'xgb__colsample_bytree': np.linspace(0.6, 1, 10)  \n",
    "    \n",
    "}\n",
    "\n",
    "\n",
    "rs_xgb_tf = RandomizedSearchCV(pipe_xgb_tf, \n",
    "                       param_distributions = pipe_params_xgb_tf,\n",
    "                       n_jobs = -1,\n",
    "                       cv = kfold, \n",
    "                       random_state=18,\n",
    "                       n_iter=40)"
   ]
  },
  {
   "cell_type": "code",
   "execution_count": 30,
   "id": "24713505-7d31-47c3-8597-5cd79cd50386",
   "metadata": {
    "tags": []
   },
   "outputs": [
    {
     "name": "stdout",
     "output_type": "stream",
     "text": [
      "Cross Validation Score: 0.835471450806914\n",
      "Best Parameters: {'xgb__subsample': 0.9, 'xgb__reg_alpha': 0.5, 'xgb__max_depth': 5, 'xgb__learning_rate': 0.14, 'xgb__gamma': 0.1, 'xgb__colsample_bytree': 0.7333333333333333, 'tfidf__stop_words': 'english', 'tfidf__ngram_range': (1, 1), 'tfidf__min_df': 4, 'tfidf__max_features': 2000, 'tfidf__max_df': 0.95}\n",
      "Train accuracy: 0.9206145966709347\n",
      "Test accuracy: 0.8464491362763915\n",
      "F1 score: 0.7163120567375888\n"
     ]
    }
   ],
   "source": [
    "rs_xgb_tf = functions_for_modeling.model_fit_scores(rs_xgb_tf, X_train, y_train, X_test, y_test)"
   ]
  },
  {
   "cell_type": "markdown",
   "id": "35f2ec38-781b-41c3-88d7-9a230e209ea5",
   "metadata": {},
   "source": [
    "This model scores very close, but a bit lower than with Count Vectorizer"
   ]
  },
  {
   "cell_type": "markdown",
   "id": "66248943-91c1-4d6b-8935-2d870fc25270",
   "metadata": {},
   "source": [
    "### XGBoost with Tokenizers"
   ]
  },
  {
   "cell_type": "code",
   "execution_count": 5,
   "id": "9102d267-c973-4506-8c33-49b2ea396a7d",
   "metadata": {
    "tags": []
   },
   "outputs": [
    {
     "name": "stdout",
     "output_type": "stream",
     "text": [
      "Cross Validation Score: 0.8476509379864012\n",
      "Train accuracy: 0.9218950064020487\n",
      "Test accuracy: 0.8675623800383877\n",
      "F1 score: 0.7628865979381444\n"
     ]
    }
   ],
   "source": [
    "# Fit the model using NLTK Tokenizer and Stemmer\n",
    "t_stem_xgb = functions_for_modeling.model_tokenazer(XGBClassifier(subsample=0.9, reg_alpha=0.4, max_depth=5, learning_rate=0.14, gamma=0.28, colsample_bytree=0.73), 'gb', functions_for_modeling.tokenizer_stemmer, 3, 3000, 0.95, X_train, y_train, X_test, y_test)"
   ]
  },
  {
   "cell_type": "code",
   "execution_count": 6,
   "id": "e3a2f460-c04a-4a2a-9796-56ed09fbbe84",
   "metadata": {
    "tags": []
   },
   "outputs": [
    {
     "name": "stdout",
     "output_type": "stream",
     "text": [
      "Cross Validation Score: 0.8444478577865159\n",
      "Train accuracy: 0.9174135723431498\n",
      "Test accuracy: 0.8618042226487524\n",
      "F1 score: 0.7482517482517482\n"
     ]
    }
   ],
   "source": [
    "# Fit the model using NLTK Tokenizer and Lemmetizer\n",
    "t_lem_xgb = functions_for_modeling.model_tokenazer(XGBClassifier(subsample=0.9, reg_alpha=0.4, max_depth=5, learning_rate=0.14, gamma=0.28, colsample_bytree=0.73), 'gb', functions_for_modeling.tokenizer_lemmatizer, 3, 3000, 0.95, X_train, y_train, X_test, y_test)"
   ]
  },
  {
   "cell_type": "code",
   "execution_count": 4,
   "id": "35876d0c-b96c-4cdc-838a-262d6b34f41c",
   "metadata": {
    "tags": []
   },
   "outputs": [
    {
     "name": "stdout",
     "output_type": "stream",
     "text": [
      "Cross Validation Score: 0.8489329892684525\n",
      "Train accuracy: 0.9174135723431498\n",
      "Test accuracy: 0.8752399232245681\n",
      "F1 score: 0.7766323024054983\n"
     ]
    }
   ],
   "source": [
    "# Fit the model using Text Blob Tokenizer and Stemmer\n",
    "tb_stem_xgb = functions_for_modeling.model_tokenazer(XGBClassifier(subsample=0.9, reg_alpha=0.4, max_depth=5, learning_rate=0.14, gamma=0.28, colsample_bytree=0.73), 'gb', functions_for_modeling.textblob_tokenizer, 3, 3000, 0.95, X_train, y_train, X_test, y_test)"
   ]
  },
  {
   "cell_type": "markdown",
   "id": "6d120057-87b8-4ce4-9f6f-83a6d5dba735",
   "metadata": {},
   "source": [
    "The scores for Text Blob Tokenizer with Stemming (tb_stem_xgb) are higher than other Tokenizers and XGBoost with just stop words and it is less overfit. The scores are lower than my best Naive Bayes model, however, this model is a bit less overfit."
   ]
  },
  {
   "cell_type": "code",
   "execution_count": 5,
   "id": "766c6def-73fb-4754-b17e-ce712643dc77",
   "metadata": {},
   "outputs": [],
   "source": [
    "# Random search parameters of the best tokenized model to improve scores.\n",
    "pipe_xgb_tn = Pipeline([\n",
    "    ('cvec', CountVectorizer(tokenizer=functions_for_modeling.textblob_tokenizer)),\n",
    "    ('xgb', XGBClassifier())\n",
    "])\n",
    "\n",
    "pipe_params_xgb_tn = {\n",
    "    'cvec__max_features': range(2000, 5000, 1000),\n",
    "    'cvec__min_df': range(3, 6),\n",
    "    'cvec__max_df': [0.8, 0.9],\n",
    "    'xgb__learning_rate': np.linspace(0.05, 0.2, 5),\n",
    "    'xgb__gamma': np.linspace(0.1, 0.3, 10),\n",
    "    'xgb__reg_alpha': [0.5, 0.6],\n",
    "    'xgb__max_depth': [5, 6, 7],\n",
    "    'xgb__subsample': [0.9, 0.95],\n",
    "    'xgb__colsample_bytree': np.linspace(0.6, 1, 10)  \n",
    "    \n",
    "}\n",
    "\n",
    "\n",
    "rs_xgb_tn = RandomizedSearchCV(pipe_xgb_tn, \n",
    "                       param_distributions = pipe_params_xgb_tn,\n",
    "                       n_jobs = -1,\n",
    "                       cv = kfold, \n",
    "                       random_state=18,\n",
    "                       n_iter=12)"
   ]
  },
  {
   "cell_type": "code",
   "execution_count": 6,
   "id": "f834031a-427d-4d57-bcfb-674d8cd957a7",
   "metadata": {},
   "outputs": [
    {
     "name": "stdout",
     "output_type": "stream",
     "text": [
      "Cross Validation Score: 0.8418919472433849\n",
      "Best Parameters: {'xgb__subsample': 0.9, 'xgb__reg_alpha': 0.5, 'xgb__max_depth': 7, 'xgb__learning_rate': 0.2, 'xgb__gamma': 0.1, 'xgb__colsample_bytree': 0.6888888888888889, 'cvec__min_df': 3, 'cvec__max_features': 4000, 'cvec__max_df': 0.9}\n",
      "Train accuracy: 0.9539052496798975\n",
      "Test accuracy: 0.8541266794625719\n",
      "F1 score: 0.7432432432432432\n"
     ]
    }
   ],
   "source": [
    "rs_xgb_tn = functions_for_modeling.model_fit_scores(rs_xgb_tn, X_train, y_train, X_test, y_test)"
   ]
  },
  {
   "cell_type": "markdown",
   "id": "7115d787-e7e6-42c2-8da0-9cd0db30091e",
   "metadata": {},
   "source": [
    "The model has lower scores, that the one fitted on previous hyperparameters. I will use them for Stacking with Tokenizers. Randomized search with Tokenized models takes a long time to run, I had to use fewer iterations and hyperparameters for tuning."
   ]
  },
  {
   "cell_type": "markdown",
   "id": "a1288963-e08d-422e-a3d1-3626e7ba271f",
   "metadata": {},
   "source": [
    "---"
   ]
  },
  {
   "cell_type": "markdown",
   "id": "89420501-8bb3-4810-8713-8be36b5746e7",
   "metadata": {},
   "source": [
    "## Gradient Boosting"
   ]
  },
  {
   "cell_type": "code",
   "execution_count": 34,
   "id": "fcb480d8-60d4-4bde-b83e-762f9300708f",
   "metadata": {},
   "outputs": [],
   "source": [
    "# Gradient Boosting Model with Count Vectorizer\n",
    "pipe_gb = Pipeline([\n",
    "    ('cvec', CountVectorizer()),\n",
    "    ('gb', GradientBoostingClassifier())\n",
    "])\n",
    "\n",
    "pipe_params_gb = {\n",
    "    'cvec__max_features': range(1000, 7000, 1000),\n",
    "    'cvec__min_df': range(1, 7),\n",
    "    'cvec__max_df': [0.8, 0.9, 0.95],\n",
    "    'cvec__stop_words': [None, 'english'],\n",
    "    'gb__learning_rate': np.linspace(0.02, 0.5, 10),\n",
    "    'gb__max_depth': range(1, 9),\n",
    "    'gb__n_estimators': range(100, 500, 100) \n",
    "    \n",
    "}\n",
    "\n",
    "\n",
    "gb = RandomizedSearchCV(pipe_gb, \n",
    "                       param_distributions = pipe_params_gb,\n",
    "                       n_jobs = -1,\n",
    "                       cv = kfold, \n",
    "                       random_state=18,\n",
    "                       n_iter=40)"
   ]
  },
  {
   "cell_type": "code",
   "execution_count": 35,
   "id": "15b9d655-b21e-49e0-90e0-6a114038d36b",
   "metadata": {},
   "outputs": [
    {
     "name": "stdout",
     "output_type": "stream",
     "text": [
      "Cross Validation Score: 0.8598160891291883\n",
      "Best Parameters: {'gb__n_estimators': 200, 'gb__max_depth': 3, 'gb__learning_rate': 0.12666666666666665, 'cvec__stop_words': 'english', 'cvec__min_df': 5, 'cvec__max_features': 5000, 'cvec__max_df': 0.9}\n",
      "Train accuracy: 0.9449423815620999\n",
      "Test accuracy: 0.8637236084452975\n",
      "F1 score: 0.7576791808873721\n"
     ]
    }
   ],
   "source": [
    "gb = functions_for_modeling.model_fit_scores(gb, X_train, y_train, X_test, y_test)"
   ]
  },
  {
   "cell_type": "markdown",
   "id": "7dfb02fa-cd71-4ea1-90c9-354e1cf79f0a",
   "metadata": {},
   "source": [
    "This model performed a bit better than XGBoost without a tokenizer, however, it is more overfit and the scores are lower than for my best Naive Bayes model."
   ]
  },
  {
   "cell_type": "code",
   "execution_count": 36,
   "id": "6b2ba2c8-da0b-40a3-b46e-cfed17b5f859",
   "metadata": {
    "tags": []
   },
   "outputs": [],
   "source": [
    "# Gradient Boosting Model with Tfidf Vectorizer\n",
    "pipe_gb_tf = Pipeline([\n",
    "    ('tfidf', TfidfVectorizer()),\n",
    "    ('gb', GradientBoostingClassifier())\n",
    "])\n",
    "\n",
    "pipe_params_gb_tf = {\n",
    "    'tfidf__max_features': range(1000, 7000, 1000),\n",
    "    'tfidf__stop_words': [None, 'english'],\n",
    "    'tfidf__ngram_range': [(1, 1), (1, 2)],\n",
    "    'tfidf__min_df': range(1, 7),\n",
    "    'tfidf__max_df': [0.8, 0.9, 0.95],\n",
    "    'gb__learning_rate': np.linspace(0.02, 0.5, 10),\n",
    "    'gb__max_depth': range(1, 9),\n",
    "    'gb__n_estimators': range(100, 500, 100) \n",
    "    \n",
    "}\n",
    "\n",
    "\n",
    "gb_tf = RandomizedSearchCV(pipe_gb_tf, \n",
    "                       param_distributions = pipe_params_gb_tf,\n",
    "                       n_jobs = -1,\n",
    "                       cv = kfold, \n",
    "                       random_state=18,\n",
    "                       n_iter=40)"
   ]
  },
  {
   "cell_type": "code",
   "execution_count": 37,
   "id": "5d8252d0-7693-4757-aa74-50680ec4d943",
   "metadata": {
    "tags": []
   },
   "outputs": [
    {
     "name": "stdout",
     "output_type": "stream",
     "text": [
      "Cross Validation Score: 0.8361268124846399\n",
      "Best Parameters: {'tfidf__stop_words': 'english', 'tfidf__ngram_range': (1, 1), 'tfidf__min_df': 6, 'tfidf__max_features': 5000, 'tfidf__max_df': 0.95, 'gb__n_estimators': 100, 'gb__max_depth': 6, 'gb__learning_rate': 0.12666666666666665}\n",
      "Train accuracy: 0.9686299615877081\n",
      "Test accuracy: 0.8579654510556622\n",
      "F1 score: 0.7482993197278912\n"
     ]
    }
   ],
   "source": [
    "gb_tf = functions_for_modeling.model_fit_scores(gb_tf, X_train, y_train, X_test, y_test)"
   ]
  },
  {
   "cell_type": "markdown",
   "id": "c1477815-c757-4ccc-8262-b5f4ddb7247a",
   "metadata": {},
   "source": [
    "Gradient Boosting with Tfidf Vectorizer performed a bit worse than with Count Vectorizer."
   ]
  },
  {
   "cell_type": "markdown",
   "id": "db3c92c0-3931-4cc6-aba4-275e01ebe91e",
   "metadata": {
    "tags": []
   },
   "source": [
    "### Gradient Boosting with Tokenizers"
   ]
  },
  {
   "cell_type": "code",
   "execution_count": 6,
   "id": "7b80a01c-998f-43a0-85cc-906a642c85ee",
   "metadata": {},
   "outputs": [
    {
     "name": "stdout",
     "output_type": "stream",
     "text": [
      "Cross Validation Score: 0.8572560825755714\n",
      "Train accuracy: 0.9481434058898848\n",
      "Test accuracy: 0.8733205374280231\n",
      "F1 score: 0.7770270270270271\n"
     ]
    }
   ],
   "source": [
    "# Fit the model using NLTK Tokenizer and Stemmer\n",
    "t_stem_gb = functions_for_modeling.model_tokenazer(GradientBoostingClassifier(n_estimators=200, max_depth=3, learning_rate= 0.12), 'gb', functions_for_modeling.tokenizer_stemmer, 5, 5000, 0.9, X_train, y_train, X_test, y_test)"
   ]
  },
  {
   "cell_type": "code",
   "execution_count": 9,
   "id": "2b6c6df2-16a7-4405-956b-628c0427202c",
   "metadata": {},
   "outputs": [
    {
     "name": "stdout",
     "output_type": "stream",
     "text": [
      "Cross Validation Score: 0.850208896534775\n",
      "Train accuracy: 0.9468629961587708\n",
      "Test accuracy: 0.8598848368522073\n",
      "F1 score: 0.743859649122807\n"
     ]
    }
   ],
   "source": [
    "# Fit the model using NLTK Tokenizer and Lemmetizer\n",
    "t_lem_gb = functions_for_modeling.model_tokenazer(GradientBoostingClassifier(n_estimators=200, max_depth=3, learning_rate= 0.12), 'gb', functions_for_modeling.tokenizer_lemmatizer, 5, 5000, 0.9, X_train, y_train, X_test, y_test)"
   ]
  },
  {
   "cell_type": "code",
   "execution_count": 5,
   "id": "ed68284c-b4ce-429b-bb3f-f191b015f342",
   "metadata": {},
   "outputs": [
    {
     "name": "stdout",
     "output_type": "stream",
     "text": [
      "Cross Validation Score: 0.8559699352830343\n",
      "Train accuracy: 0.9494238156209988\n",
      "Test accuracy: 0.8733205374280231\n",
      "F1 score: 0.7755102040816327\n"
     ]
    }
   ],
   "source": [
    "# Fit the model using Text Blob Tokenizer and Stemmer\n",
    "tb_stem_gb = functions_for_modeling.model_tokenazer(GradientBoostingClassifier(n_estimators=200, max_depth=3, learning_rate= 0.12), 'gb', functions_for_modeling.textblob_tokenizer, 5, 5000, 0.9, X_train, y_train, X_test, y_test)"
   ]
  },
  {
   "cell_type": "markdown",
   "id": "12cc836f-a3d6-4dfe-9faa-09f2f77ec088",
   "metadata": {},
   "source": [
    "The best model uses NLTP Word Tokenizer with Stemming (t_stem_gb). This model has higher scores than XGBoost with the same Tokenizer. It is the best boosting model so far, but the scores are lower than for my best Naive Bayes model."
   ]
  },
  {
   "cell_type": "code",
   "execution_count": 20,
   "id": "bf52ef90-0f2d-4cd3-a256-a8f9fe67eb04",
   "metadata": {},
   "outputs": [],
   "source": [
    "# Random search parameters of the best tokenized model to improve scores.\n",
    "pipe_gb_tn = Pipeline([\n",
    "    ('cvec', CountVectorizer(tokenizer=functions_for_modeling.tokenizer_stemmer)),\n",
    "    ('gb', GradientBoostingClassifier())\n",
    "])\n",
    "\n",
    "pipe_params_gb_tn = {\n",
    "    'cvec__max_features': range(1000, 5000, 1000),\n",
    "    'cvec__min_df': range(1, 5),\n",
    "    'cvec__max_df': [0.8, 0.9],\n",
    "    'gb__learning_rate': np.linspace(0.02, 0.2, 5),\n",
    "    'gb__max_depth': range(1, 4),\n",
    "    'gb__n_estimators': range(200, 500, 100) \n",
    "    \n",
    "}\n",
    "\n",
    "\n",
    "gb_tn = RandomizedSearchCV(pipe_gb_tn, \n",
    "                       param_distributions = pipe_params_gb_tn,\n",
    "                       n_jobs = -1,\n",
    "                       cv = kfold, \n",
    "                       random_state=18,\n",
    "                       n_iter=12)"
   ]
  },
  {
   "cell_type": "code",
   "execution_count": 21,
   "id": "97efdd49-170d-4035-97d1-a7a50074e2be",
   "metadata": {},
   "outputs": [
    {
     "name": "stdout",
     "output_type": "stream",
     "text": [
      "Cross Validation Score: 0.8540591463914147\n",
      "Best Parameters: {'gb__n_estimators': 400, 'gb__max_depth': 1, 'gb__learning_rate': 0.2, 'cvec__min_df': 2, 'cvec__max_features': 1000, 'cvec__max_df': 0.8}\n",
      "Train accuracy: 0.9148527528809219\n",
      "Test accuracy: 0.8656429942418427\n",
      "F1 score: 0.7602739726027398\n"
     ]
    }
   ],
   "source": [
    "gb_tn = functions_for_modeling.model_fit_scores(gb_tn, X_train, y_train, X_test, y_test)"
   ]
  },
  {
   "cell_type": "markdown",
   "id": "dcfb412f-de86-4019-b684-266399f50b50",
   "metadata": {},
   "source": [
    "The model has lower scores, that the one fitted on previous hyperparameters. I will use them for Stacking with Tokenizers. Randomized search with Tokenized models takes a long time to run, I had to use fewer iterations and hyperparameters for tuning."
   ]
  },
  {
   "cell_type": "markdown",
   "id": "38d273a0-ce07-4db8-91a7-0d294153c61c",
   "metadata": {},
   "source": [
    "---"
   ]
  },
  {
   "cell_type": "markdown",
   "id": "0bd2a7ef-0672-4a0c-81ce-6e7543b7b769",
   "metadata": {},
   "source": [
    "## Ada Boosting"
   ]
  },
  {
   "cell_type": "markdown",
   "id": "c805ed26-238b-4cdd-ae02-eecebe17d818",
   "metadata": {},
   "source": [
    "Count Vectorizer worked better for all previous models, for Ada boost I will use only it."
   ]
  },
  {
   "cell_type": "code",
   "execution_count": 18,
   "id": "a2754cf3-9e8f-4d85-ab09-9b11c40d67ee",
   "metadata": {},
   "outputs": [],
   "source": [
    "# Ada Boosting Model with Count Vectorizer adapted from 6.04-lesson-boosting\n",
    "pipe_ada = Pipeline([\n",
    "    ('cvec', CountVectorizer()),\n",
    "    ('ada', AdaBoostClassifier(base_estimator=DecisionTreeClassifier()))\n",
    "])\n",
    "\n",
    "pipe_params_ada = {\n",
    "    'cvec__max_features': range(1000, 7000, 1000),\n",
    "    'cvec__min_df': range(1, 7),\n",
    "    'cvec__max_df': [0.8, 0.9, 0.95],\n",
    "    'cvec__stop_words': [None, 'english'],\n",
    "    'ada__learning_rate': np.linspace(0.02, 1, 10),\n",
    "    'ada__base_estimator__max_depth': range(1, 9),\n",
    "    'ada__n_estimators': range(100, 500, 100) \n",
    "    \n",
    "}\n",
    "\n",
    "\n",
    "ada = RandomizedSearchCV(pipe_ada, \n",
    "                       param_distributions = pipe_params_ada,\n",
    "                       n_jobs = -1,\n",
    "                       cv = kfold, \n",
    "                       random_state=18,\n",
    "                       n_iter=40)"
   ]
  },
  {
   "cell_type": "code",
   "execution_count": 19,
   "id": "8c468eb6-c474-4605-91f9-11864ff4db19",
   "metadata": {},
   "outputs": [
    {
     "name": "stdout",
     "output_type": "stream",
     "text": [
      "Cross Validation Score: 0.8636417629229131\n",
      "Best Parameters: {'cvec__stop_words': 'english', 'cvec__min_df': 6, 'cvec__max_features': 3000, 'cvec__max_df': 0.95, 'ada__n_estimators': 300, 'ada__learning_rate': 0.1288888888888889, 'ada__base_estimator__max_depth': 1}\n",
      "Train accuracy: 0.913572343149808\n",
      "Test accuracy: 0.8637236084452975\n",
      "F1 score: 0.7508771929824563\n"
     ]
    }
   ],
   "source": [
    "ada = functions_for_modeling.model_fit_scores(ada, X_train, y_train, X_test, y_test)"
   ]
  },
  {
   "cell_type": "markdown",
   "id": "a18620c2-ca1c-4a24-87ae-80c5ca9896a3",
   "metadata": {},
   "source": [
    "Ada boosting has the lowest F1 score, however, it has the highest Cross Validation score for all the Boosting models."
   ]
  },
  {
   "cell_type": "markdown",
   "id": "c3909b21-b7d0-46a4-9ed7-8d4da1066ad7",
   "metadata": {},
   "source": [
    "### Ada Boosting with Tokenizers"
   ]
  },
  {
   "cell_type": "markdown",
   "id": "d756bb49-fd63-445b-a9ef-6d9138f0895f",
   "metadata": {},
   "source": [
    "For this model, I did not use the NLTP Word Tokenizer with Lemmatizing as it performed worse for all previous models."
   ]
  },
  {
   "cell_type": "code",
   "execution_count": 23,
   "id": "f8d8983b-9405-434c-84e6-3c9b154779cf",
   "metadata": {},
   "outputs": [
    {
     "name": "stdout",
     "output_type": "stream",
     "text": [
      "Cross Validation Score: 0.7861554845580405\n",
      "Train accuracy: 0.9980793854033291\n",
      "Test accuracy: 0.7773512476007678\n",
      "F1 score: 0.6\n"
     ]
    }
   ],
   "source": [
    "# Fit the model using NLTK Tokenizer and Stemmer\n",
    "t_stem_ada = functions_for_modeling.model_tokenazer(AdaBoostClassifier(n_estimators=300, learning_rate= 0.13, base_estimator=DecisionTreeClassifier()), 'ada', functions_for_modeling.tokenizer_stemmer, 6, 3000, 0.95, X_train, y_train, X_test, y_test)"
   ]
  },
  {
   "cell_type": "code",
   "execution_count": 24,
   "id": "f6fc05b9-f3f0-4e97-836d-332fcdeafb0c",
   "metadata": {},
   "outputs": [
    {
     "name": "stdout",
     "output_type": "stream",
     "text": [
      "Cross Validation Score: 0.8617350700417793\n",
      "Train accuracy: 0.912932138284251\n",
      "Test accuracy: 0.8656429942418427\n",
      "F1 score: 0.7635135135135135\n"
     ]
    }
   ],
   "source": [
    "# Fit the model using Text Blob Tokenizer and Stemmer\n",
    "tb_stem_ada = functions_for_modeling.model_tokenazer(AdaBoostClassifier(n_estimators=300, base_estimator=DecisionTreeClassifier(max_depth=1), learning_rate= 0.13), 'ada', functions_for_modeling.textblob_tokenizer, 6, 3000, 0.95, X_train, y_train, X_test, y_test)"
   ]
  },
  {
   "cell_type": "markdown",
   "id": "bb4a7308-bbcd-4e2d-aa9e-656d1c0597f2",
   "metadata": {},
   "source": [
    "The scores for Text Blob Tokenizer with Stemming (tb_stem_ada) are higher than other Tokenizers and XGBoost with just stop words and it is less overfit. The scores are lower than my best Naive Bayes model, however, this model is a bit less overfit. Random search did not improve the scores of previous tokenized models, I will not try it on Ada Boost."
   ]
  },
  {
   "cell_type": "markdown",
   "id": "68d70d72-38f6-4a0d-abf6-7eff3ddcbbf9",
   "metadata": {},
   "source": [
    "---"
   ]
  },
  {
   "cell_type": "markdown",
   "id": "3a7828e5-e443-4d31-b612-2c14e46f6e56",
   "metadata": {},
   "source": [
    "## Residual plot and Confusion Matrix for the best model"
   ]
  },
  {
   "cell_type": "markdown",
   "id": "c766df8f-f085-442d-a07d-f527ff8149e9",
   "metadata": {},
   "source": [
    "My best model for this notebook is Gradient Boosting with Count Vectorizer and NLTP Word Tokenizer with Stemming fitted on both Title and Body Texts."
   ]
  },
  {
   "cell_type": "code",
   "execution_count": 7,
   "id": "7b70474b-3091-48e5-a8cf-c41735e1c10c",
   "metadata": {},
   "outputs": [
    {
     "data": {
      "image/png": "[encoded data removed]",
      "text/plain": [
       "<Figure size 1400x800 with 1 Axes>"
      ]
     },
     "metadata": {},
     "output_type": "display_data"
    }
   ],
   "source": [
    "# Plot the resuduals of the mest model for this notebook\n",
    "functions_for_modeling.plot_residuals(t_stem_gb, X_test, y_test, 'Gradient Boosting', 'gb_residuals')"
   ]
  },
  {
   "cell_type": "markdown",
   "id": "7df68350-3f9a-4a09-b0b6-8ccb7c4955dc",
   "metadata": {},
   "source": [
    "The Gradient Boosting model has even more errors in predicting Bioinformatics. It predicts the prevailing class even more often than Naive Bayes."
   ]
  },
  {
   "cell_type": "code",
   "execution_count": 9,
   "id": "173a6a4d-167d-44ec-90b0-a4796004f2f3",
   "metadata": {},
   "outputs": [
    {
     "data": {
      "image/png": "[encoded data removed]",
      "text/plain": [
       "<Figure size 640x480 with 2 Axes>"
      ]
     },
     "metadata": {},
     "output_type": "display_data"
    }
   ],
   "source": [
    "# Confusion Matrix\n",
    "functions_for_modeling.plot_confusion_matrix(t_stem_gb, X_test, y_test)"
   ]
  },
  {
   "cell_type": "markdown",
   "id": "9560dda3-bf06-47cc-b940-bbf0c98d3110",
   "metadata": {},
   "source": [
    "Bioinformatics is 1 and Data Science is 0. As we could see in the residual plot, my model wrongly predicts more Bioinformatics texts as Data Science than other way around. This model has 56 False Negatives and only 10 False Positives. Much more False Negatives than the best Naive Bayes model."
   ]
  },
  {
   "cell_type": "markdown",
   "id": "bb2faa21-12a6-47d2-ba19-aa4f94781491",
   "metadata": {},
   "source": [
    "---"
   ]
  },
  {
   "cell_type": "markdown",
   "id": "cceeba67-8b24-4cbb-bfa9-d4f5477254d7",
   "metadata": {},
   "source": [
    "I have several strong models for XGBoost, Gradient Boosting, and Ada Boost Classifiers. Scores were better with Count Vectorizer for all my models, I will use only it for Stacking. However, the best parameters for Count Vectorizer are different, so I will need to search best parameters for Stacking. My best scores for models in this notebook are lower than my best Naive Bayes but close to it. I will try three best - Naive Bayes, Gradient Boosting and XGBoost and than all models together in the Stacking model in the next notebook. Tokenizers work differently on these models. I will try Stacking with Text Blob Tokenization - which worked better for Naive Bayes, XGBoost, and Ada Boosting and with NLTP Word Tokenizer with Stemming - which worked better for Gradient Boosting."
   ]
  }
 ],
 "metadata": {
  "kernelspec": {
   "display_name": "Python 3 (ipykernel)",
   "language": "python",
   "name": "python3"
  },
  "language_info": {
   "codemirror_mode": {
    "name": "ipython",
    "version": 3
   },
   "file_extension": ".py",
   "mimetype": "text/x-python",
   "name": "python",
   "nbconvert_exporter": "python",
   "pygments_lexer": "ipython3",
   "version": "3.9.13"
  }
 },
 "nbformat": 4,
 "nbformat_minor": 5
}
