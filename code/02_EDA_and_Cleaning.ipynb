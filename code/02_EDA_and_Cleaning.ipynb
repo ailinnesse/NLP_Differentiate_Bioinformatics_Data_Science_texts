{
 "cells": [
  {
   "cell_type": "markdown",
   "id": "23f37f96-b2a1-4319-85f5-51af944f5cb1",
   "metadata": {},
   "source": [
    "# EDA and Cleaning"
   ]
  },
  {
   "cell_type": "markdown",
   "id": "b592a29f-5c71-4853-8ae9-1eb95136863b",
   "metadata": {},
   "source": [
    "In the last notebook I have collected the data in this I will explolre the data and clean it."
   ]
  },
  {
   "cell_type": "markdown",
   "id": "4e55b947-53d0-4df6-a3e2-c66625452fc8",
   "metadata": {},
   "source": [
    "---"
   ]
  },
  {
   "cell_type": "code",
   "execution_count": 2,
   "id": "313b0d44-1735-448d-b50f-4864542abf20",
   "metadata": {},
   "outputs": [],
   "source": [
    "# Imports\n",
    "import pandas as pd"
   ]
  },
  {
   "cell_type": "code",
   "execution_count": 3,
   "id": "254549dd-85b8-4e1b-a5d1-d93a94fab996",
   "metadata": {},
   "outputs": [],
   "source": [
    "# Get the data\n",
    "reddit = pd.read_csv('../data/reddit.csv')"
   ]
  },
  {
   "cell_type": "code",
   "execution_count": 4,
   "id": "dead00f7-9e35-47f4-8f34-21a6f34f1b25",
   "metadata": {},
   "outputs": [
    {
     "data": {
      "text/html": [
       "<div>\n",
       "<style scoped>\n",
       "    .dataframe tbody tr th:only-of-type {\n",
       "        vertical-align: middle;\n",
       "    }\n",
       "\n",
       "    .dataframe tbody tr th {\n",
       "        vertical-align: top;\n",
       "    }\n",
       "\n",
       "    .dataframe thead th {\n",
       "        text-align: right;\n",
       "    }\n",
       "</style>\n",
       "<table border=\"1\" class=\"dataframe\">\n",
       "  <thead>\n",
       "    <tr style=\"text-align: right;\">\n",
       "      <th></th>\n",
       "      <th>subreddit</th>\n",
       "      <th>selftext</th>\n",
       "      <th>title</th>\n",
       "      <th>created_utc</th>\n",
       "    </tr>\n",
       "  </thead>\n",
       "  <tbody>\n",
       "    <tr>\n",
       "      <th>0</th>\n",
       "      <td>bioinformatics</td>\n",
       "      <td>Hi \\nSo I was reading an article about finding...</td>\n",
       "      <td>why child data are less than monozygotic twin(...</td>\n",
       "      <td>1673029838</td>\n",
       "    </tr>\n",
       "    <tr>\n",
       "      <th>1</th>\n",
       "      <td>bioinformatics</td>\n",
       "      <td>Hello everyone, i’m a biotechnology student fr...</td>\n",
       "      <td>Masters in bioinformatic Europe</td>\n",
       "      <td>1673019129</td>\n",
       "    </tr>\n",
       "    <tr>\n",
       "      <th>2</th>\n",
       "      <td>bioinformatics</td>\n",
       "      <td>&amp;amp;#x200B;\\n\\nhttps://preview.redd.it/adr3qi...</td>\n",
       "      <td>Help interpreting a PCA plot</td>\n",
       "      <td>1673013992</td>\n",
       "    </tr>\n",
       "    <tr>\n",
       "      <th>3</th>\n",
       "      <td>bioinformatics</td>\n",
       "      <td>NaN</td>\n",
       "      <td>Help interpreting a PCA plot</td>\n",
       "      <td>1673013802</td>\n",
       "    </tr>\n",
       "    <tr>\n",
       "      <th>4</th>\n",
       "      <td>bioinformatics</td>\n",
       "      <td>Hi all,\\n\\nI am planning on running a microarr...</td>\n",
       "      <td>Microarray metanalysis using raw data vs serie...</td>\n",
       "      <td>1673007061</td>\n",
       "    </tr>\n",
       "  </tbody>\n",
       "</table>\n",
       "</div>"
      ],
      "text/plain": [
       "        subreddit                                           selftext  \\\n",
       "0  bioinformatics  Hi \\nSo I was reading an article about finding...   \n",
       "1  bioinformatics  Hello everyone, i’m a biotechnology student fr...   \n",
       "2  bioinformatics  &amp;#x200B;\\n\\nhttps://preview.redd.it/adr3qi...   \n",
       "3  bioinformatics                                                NaN   \n",
       "4  bioinformatics  Hi all,\\n\\nI am planning on running a microarr...   \n",
       "\n",
       "                                               title  created_utc  \n",
       "0  why child data are less than monozygotic twin(...   1673029838  \n",
       "1                    Masters in bioinformatic Europe   1673019129  \n",
       "2                       Help interpreting a PCA plot   1673013992  \n",
       "3                       Help interpreting a PCA plot   1673013802  \n",
       "4  Microarray metanalysis using raw data vs serie...   1673007061  "
      ]
     },
     "execution_count": 4,
     "metadata": {},
     "output_type": "execute_result"
    }
   ],
   "source": [
    "reddit.head()"
   ]
  },
  {
   "cell_type": "code",
   "execution_count": 5,
   "id": "feba9902-065c-412a-be1d-e1b687709dd2",
   "metadata": {},
   "outputs": [
    {
     "data": {
      "text/plain": [
       "subreddit        0\n",
       "selftext       202\n",
       "title            0\n",
       "created_utc      0\n",
       "dtype: int64"
      ]
     },
     "execution_count": 5,
     "metadata": {},
     "output_type": "execute_result"
    }
   ],
   "source": [
    "# Check for missing data\n",
    "reddit.isnull().sum()"
   ]
  },
  {
   "cell_type": "markdown",
   "id": "1e37b16f-864d-4109-812a-e85107e42657",
   "metadata": {},
   "source": [
    "In my subreddits the text of the post is precent in most of the cases, however, I will model on title first and then add text and see if accuracy will improve. The created_utc was used for collecting the data and I do not neet it for modeling"
   ]
  },
  {
   "cell_type": "code",
   "execution_count": 6,
   "id": "5d2451bd-d704-4481-ab10-3e9abe983fc2",
   "metadata": {},
   "outputs": [],
   "source": [
    "reddit.drop(columns = 'created_utc', inplace = True)"
   ]
  },
  {
   "cell_type": "code",
   "execution_count": 7,
   "id": "1629c5ac-cc32-4f2f-8f65-d2e11f5cfe9f",
   "metadata": {},
   "outputs": [
    {
     "data": {
      "text/plain": [
       "biotech           0.539683\n",
       "bioinformatics    0.451346\n",
       "u_uni-biotech     0.008972\n",
       "Name: subreddit, dtype: float64"
      ]
     },
     "execution_count": 7,
     "metadata": {},
     "output_type": "execute_result"
    }
   ],
   "source": [
    "# I have almost the same number of posts for Biotech and Bioinformatics. The base line should be close to 50%\n",
    "reddit['subreddit'].value_counts(normalize=True)"
   ]
  },
  {
   "cell_type": "markdown",
   "id": "7f8ce9ca-4b8f-4ae3-b729-2adc10df81c2",
   "metadata": {},
   "source": [
    "Some of Biotech subreddit have different names. I need to change them to Biotech"
   ]
  },
  {
   "cell_type": "code",
   "execution_count": 8,
   "id": "aaec719c-b12c-49b5-9415-d2891fdeb8ba",
   "metadata": {},
   "outputs": [],
   "source": [
    "reddit['subreddit'] = reddit['subreddit'].map(lambda x: 'biotech' if x != 'bioinformatics' else 'bioinformatics')"
   ]
  },
  {
   "cell_type": "code",
   "execution_count": 9,
   "id": "fcec770f-81ac-4249-b821-59e6830f857b",
   "metadata": {},
   "outputs": [
    {
     "data": {
      "text/plain": [
       "biotech           0.548654\n",
       "bioinformatics    0.451346\n",
       "Name: subreddit, dtype: float64"
      ]
     },
     "execution_count": 9,
     "metadata": {},
     "output_type": "execute_result"
    }
   ],
   "source": [
    "# Check the base line\n",
    "reddit['subreddit'].value_counts(normalize=True)"
   ]
  },
  {
   "cell_type": "code",
   "execution_count": 10,
   "id": "64c29c13-76be-4096-a7cb-134db8d21466",
   "metadata": {},
   "outputs": [],
   "source": [
    "# Change titles to lower case\n",
    "reddit['title'] = reddit['title'].str.lower()\n",
    "reddit['selftext'] = reddit['selftext'].str.lower()"
   ]
  },
  {
   "cell_type": "code",
   "execution_count": 11,
   "id": "fa572594-8a6b-462e-a77e-27b7ec330741",
   "metadata": {},
   "outputs": [
    {
     "data": {
      "text/html": [
       "<div>\n",
       "<style scoped>\n",
       "    .dataframe tbody tr th:only-of-type {\n",
       "        vertical-align: middle;\n",
       "    }\n",
       "\n",
       "    .dataframe tbody tr th {\n",
       "        vertical-align: top;\n",
       "    }\n",
       "\n",
       "    .dataframe thead th {\n",
       "        text-align: right;\n",
       "    }\n",
       "</style>\n",
       "<table border=\"1\" class=\"dataframe\">\n",
       "  <thead>\n",
       "    <tr style=\"text-align: right;\">\n",
       "      <th></th>\n",
       "      <th>subreddit</th>\n",
       "      <th>selftext</th>\n",
       "      <th>title</th>\n",
       "    </tr>\n",
       "  </thead>\n",
       "  <tbody>\n",
       "    <tr>\n",
       "      <th>0</th>\n",
       "      <td>bioinformatics</td>\n",
       "      <td>hi \\nso i was reading an article about finding...</td>\n",
       "      <td>why child data are less than monozygotic twin(...</td>\n",
       "    </tr>\n",
       "    <tr>\n",
       "      <th>1</th>\n",
       "      <td>bioinformatics</td>\n",
       "      <td>hello everyone, i’m a biotechnology student fr...</td>\n",
       "      <td>masters in bioinformatic europe</td>\n",
       "    </tr>\n",
       "    <tr>\n",
       "      <th>2</th>\n",
       "      <td>bioinformatics</td>\n",
       "      <td>&amp;amp;#x200b;\\n\\nhttps://preview.redd.it/adr3qi...</td>\n",
       "      <td>help interpreting a pca plot</td>\n",
       "    </tr>\n",
       "    <tr>\n",
       "      <th>3</th>\n",
       "      <td>bioinformatics</td>\n",
       "      <td>NaN</td>\n",
       "      <td>help interpreting a pca plot</td>\n",
       "    </tr>\n",
       "    <tr>\n",
       "      <th>4</th>\n",
       "      <td>bioinformatics</td>\n",
       "      <td>hi all,\\n\\ni am planning on running a microarr...</td>\n",
       "      <td>microarray metanalysis using raw data vs serie...</td>\n",
       "    </tr>\n",
       "  </tbody>\n",
       "</table>\n",
       "</div>"
      ],
      "text/plain": [
       "        subreddit                                           selftext  \\\n",
       "0  bioinformatics  hi \\nso i was reading an article about finding...   \n",
       "1  bioinformatics  hello everyone, i’m a biotechnology student fr...   \n",
       "2  bioinformatics  &amp;#x200b;\\n\\nhttps://preview.redd.it/adr3qi...   \n",
       "3  bioinformatics                                                NaN   \n",
       "4  bioinformatics  hi all,\\n\\ni am planning on running a microarr...   \n",
       "\n",
       "                                               title  \n",
       "0  why child data are less than monozygotic twin(...  \n",
       "1                    masters in bioinformatic europe  \n",
       "2                       help interpreting a pca plot  \n",
       "3                       help interpreting a pca plot  \n",
       "4  microarray metanalysis using raw data vs serie...  "
      ]
     },
     "execution_count": 11,
     "metadata": {},
     "output_type": "execute_result"
    }
   ],
   "source": [
    "reddit.head()"
   ]
  },
  {
   "cell_type": "code",
   "execution_count": 12,
   "id": "b61b413c-e8ad-4357-a2a2-7bcf403fc87f",
   "metadata": {},
   "outputs": [
    {
     "data": {
      "text/html": [
       "<div>\n",
       "<style scoped>\n",
       "    .dataframe tbody tr th:only-of-type {\n",
       "        vertical-align: middle;\n",
       "    }\n",
       "\n",
       "    .dataframe tbody tr th {\n",
       "        vertical-align: top;\n",
       "    }\n",
       "\n",
       "    .dataframe thead th {\n",
       "        text-align: right;\n",
       "    }\n",
       "</style>\n",
       "<table border=\"1\" class=\"dataframe\">\n",
       "  <thead>\n",
       "    <tr style=\"text-align: right;\">\n",
       "      <th></th>\n",
       "      <th>subreddit</th>\n",
       "      <th>selftext</th>\n",
       "      <th>title</th>\n",
       "      <th>subreddit_num</th>\n",
       "    </tr>\n",
       "  </thead>\n",
       "  <tbody>\n",
       "    <tr>\n",
       "      <th>0</th>\n",
       "      <td>bioinformatics</td>\n",
       "      <td>hi \\nso i was reading an article about finding...</td>\n",
       "      <td>why child data are less than monozygotic twin(...</td>\n",
       "      <td>0</td>\n",
       "    </tr>\n",
       "    <tr>\n",
       "      <th>1</th>\n",
       "      <td>bioinformatics</td>\n",
       "      <td>hello everyone, i’m a biotechnology student fr...</td>\n",
       "      <td>masters in bioinformatic europe</td>\n",
       "      <td>0</td>\n",
       "    </tr>\n",
       "    <tr>\n",
       "      <th>2</th>\n",
       "      <td>bioinformatics</td>\n",
       "      <td>&amp;amp;#x200b;\\n\\nhttps://preview.redd.it/adr3qi...</td>\n",
       "      <td>help interpreting a pca plot</td>\n",
       "      <td>0</td>\n",
       "    </tr>\n",
       "    <tr>\n",
       "      <th>3</th>\n",
       "      <td>bioinformatics</td>\n",
       "      <td>NaN</td>\n",
       "      <td>help interpreting a pca plot</td>\n",
       "      <td>0</td>\n",
       "    </tr>\n",
       "    <tr>\n",
       "      <th>4</th>\n",
       "      <td>bioinformatics</td>\n",
       "      <td>hi all,\\n\\ni am planning on running a microarr...</td>\n",
       "      <td>microarray metanalysis using raw data vs serie...</td>\n",
       "      <td>0</td>\n",
       "    </tr>\n",
       "  </tbody>\n",
       "</table>\n",
       "</div>"
      ],
      "text/plain": [
       "        subreddit                                           selftext  \\\n",
       "0  bioinformatics  hi \\nso i was reading an article about finding...   \n",
       "1  bioinformatics  hello everyone, i’m a biotechnology student fr...   \n",
       "2  bioinformatics  &amp;#x200b;\\n\\nhttps://preview.redd.it/adr3qi...   \n",
       "3  bioinformatics                                                NaN   \n",
       "4  bioinformatics  hi all,\\n\\ni am planning on running a microarr...   \n",
       "\n",
       "                                               title  subreddit_num  \n",
       "0  why child data are less than monozygotic twin(...              0  \n",
       "1                    masters in bioinformatic europe              0  \n",
       "2                       help interpreting a pca plot              0  \n",
       "3                       help interpreting a pca plot              0  \n",
       "4  microarray metanalysis using raw data vs serie...              0  "
      ]
     },
     "execution_count": 12,
     "metadata": {},
     "output_type": "execute_result"
    }
   ],
   "source": [
    "# Change the subreddit names to numbers for modeling\n",
    "reddit['subreddit_num'] = reddit['subreddit'].map({'bioinformatics': 0, 'biotech': 1})\n",
    "reddit.head()"
   ]
  },
  {
   "cell_type": "code",
   "execution_count": null,
   "id": "933aae54-4bfc-4258-9f34-3bd5af58360e",
   "metadata": {},
   "outputs": [],
   "source": []
  },
  {
   "cell_type": "code",
   "execution_count": null,
   "id": "23125d5a-0f1b-4ab3-97f1-9343f6de6763",
   "metadata": {},
   "outputs": [],
   "source": []
  },
  {
   "cell_type": "code",
   "execution_count": null,
   "id": "8fb1a6d3-63f7-44fe-b85d-e1a9744b90ca",
   "metadata": {},
   "outputs": [],
   "source": []
  },
  {
   "cell_type": "code",
   "execution_count": null,
   "id": "d4d365ff-fc59-49e2-829d-3b2556cf09bb",
   "metadata": {},
   "outputs": [],
   "source": []
  },
  {
   "cell_type": "code",
   "execution_count": null,
   "id": "2af92a2d-88ea-4438-a2b2-044b2a216102",
   "metadata": {},
   "outputs": [],
   "source": []
  },
  {
   "cell_type": "code",
   "execution_count": null,
   "id": "6e73444e-4797-4fbd-97a9-a595a552699b",
   "metadata": {},
   "outputs": [],
   "source": []
  }
 ],
 "metadata": {
  "kernelspec": {
   "display_name": "Python 3 (ipykernel)",
   "language": "python",
   "name": "python3"
  },
  "language_info": {
   "codemirror_mode": {
    "name": "ipython",
    "version": 3
   },
   "file_extension": ".py",
   "mimetype": "text/x-python",
   "name": "python",
   "nbconvert_exporter": "python",
   "pygments_lexer": "ipython3",
   "version": "3.9.13"
  }
 },
 "nbformat": 4,
 "nbformat_minor": 5
}
